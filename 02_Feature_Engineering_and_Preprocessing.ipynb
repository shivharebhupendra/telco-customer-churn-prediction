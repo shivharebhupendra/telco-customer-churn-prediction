{
 "cells": [
  {
   "cell_type": "markdown",
   "id": "7b8a71d4-1b42-4776-9b97-f130d4af913e",
   "metadata": {},
   "source": [
    "## Step 3: Feature Engineering and Preprocessing"
   ]
  },
  {
   "cell_type": "code",
   "execution_count": 2,
   "id": "11bc6bf3-a510-4692-bb79-98e8d261c4b5",
   "metadata": {},
   "outputs": [],
   "source": [
    "# Necessary libraries\n",
    "import pandas as pd\n",
    "import numpy as np\n",
    "from sklearn.preprocessing import StandardScaler"
   ]
  },
  {
   "cell_type": "code",
   "execution_count": 3,
   "id": "94c9184e-c2dc-4882-ad25-498be4971212",
   "metadata": {},
   "outputs": [
    {
     "data": {
      "text/html": [
       "<div>\n",
       "<style scoped>\n",
       "    .dataframe tbody tr th:only-of-type {\n",
       "        vertical-align: middle;\n",
       "    }\n",
       "\n",
       "    .dataframe tbody tr th {\n",
       "        vertical-align: top;\n",
       "    }\n",
       "\n",
       "    .dataframe thead th {\n",
       "        text-align: right;\n",
       "    }\n",
       "</style>\n",
       "<table border=\"1\" class=\"dataframe\">\n",
       "  <thead>\n",
       "    <tr style=\"text-align: right;\">\n",
       "      <th></th>\n",
       "      <th>customerID</th>\n",
       "      <th>gender</th>\n",
       "      <th>SeniorCitizen</th>\n",
       "      <th>Partner</th>\n",
       "      <th>Dependents</th>\n",
       "      <th>tenure</th>\n",
       "      <th>PhoneService</th>\n",
       "      <th>MultipleLines</th>\n",
       "      <th>InternetService</th>\n",
       "      <th>OnlineSecurity</th>\n",
       "      <th>...</th>\n",
       "      <th>DeviceProtection</th>\n",
       "      <th>TechSupport</th>\n",
       "      <th>StreamingTV</th>\n",
       "      <th>StreamingMovies</th>\n",
       "      <th>Contract</th>\n",
       "      <th>PaperlessBilling</th>\n",
       "      <th>PaymentMethod</th>\n",
       "      <th>MonthlyCharges</th>\n",
       "      <th>TotalCharges</th>\n",
       "      <th>Churn</th>\n",
       "    </tr>\n",
       "  </thead>\n",
       "  <tbody>\n",
       "    <tr>\n",
       "      <th>0</th>\n",
       "      <td>7590-VHVEG</td>\n",
       "      <td>Female</td>\n",
       "      <td>0</td>\n",
       "      <td>Yes</td>\n",
       "      <td>No</td>\n",
       "      <td>1</td>\n",
       "      <td>No</td>\n",
       "      <td>No phone service</td>\n",
       "      <td>DSL</td>\n",
       "      <td>No</td>\n",
       "      <td>...</td>\n",
       "      <td>No</td>\n",
       "      <td>No</td>\n",
       "      <td>No</td>\n",
       "      <td>No</td>\n",
       "      <td>Month-to-month</td>\n",
       "      <td>Yes</td>\n",
       "      <td>Electronic check</td>\n",
       "      <td>29.85</td>\n",
       "      <td>29.85</td>\n",
       "      <td>No</td>\n",
       "    </tr>\n",
       "    <tr>\n",
       "      <th>1</th>\n",
       "      <td>5575-GNVDE</td>\n",
       "      <td>Male</td>\n",
       "      <td>0</td>\n",
       "      <td>No</td>\n",
       "      <td>No</td>\n",
       "      <td>34</td>\n",
       "      <td>Yes</td>\n",
       "      <td>No</td>\n",
       "      <td>DSL</td>\n",
       "      <td>Yes</td>\n",
       "      <td>...</td>\n",
       "      <td>Yes</td>\n",
       "      <td>No</td>\n",
       "      <td>No</td>\n",
       "      <td>No</td>\n",
       "      <td>One year</td>\n",
       "      <td>No</td>\n",
       "      <td>Mailed check</td>\n",
       "      <td>56.95</td>\n",
       "      <td>1889.50</td>\n",
       "      <td>No</td>\n",
       "    </tr>\n",
       "    <tr>\n",
       "      <th>2</th>\n",
       "      <td>3668-QPYBK</td>\n",
       "      <td>Male</td>\n",
       "      <td>0</td>\n",
       "      <td>No</td>\n",
       "      <td>No</td>\n",
       "      <td>2</td>\n",
       "      <td>Yes</td>\n",
       "      <td>No</td>\n",
       "      <td>DSL</td>\n",
       "      <td>Yes</td>\n",
       "      <td>...</td>\n",
       "      <td>No</td>\n",
       "      <td>No</td>\n",
       "      <td>No</td>\n",
       "      <td>No</td>\n",
       "      <td>Month-to-month</td>\n",
       "      <td>Yes</td>\n",
       "      <td>Mailed check</td>\n",
       "      <td>53.85</td>\n",
       "      <td>108.15</td>\n",
       "      <td>Yes</td>\n",
       "    </tr>\n",
       "    <tr>\n",
       "      <th>3</th>\n",
       "      <td>7795-CFOCW</td>\n",
       "      <td>Male</td>\n",
       "      <td>0</td>\n",
       "      <td>No</td>\n",
       "      <td>No</td>\n",
       "      <td>45</td>\n",
       "      <td>No</td>\n",
       "      <td>No phone service</td>\n",
       "      <td>DSL</td>\n",
       "      <td>Yes</td>\n",
       "      <td>...</td>\n",
       "      <td>Yes</td>\n",
       "      <td>Yes</td>\n",
       "      <td>No</td>\n",
       "      <td>No</td>\n",
       "      <td>One year</td>\n",
       "      <td>No</td>\n",
       "      <td>Bank transfer (automatic)</td>\n",
       "      <td>42.30</td>\n",
       "      <td>1840.75</td>\n",
       "      <td>No</td>\n",
       "    </tr>\n",
       "    <tr>\n",
       "      <th>4</th>\n",
       "      <td>9237-HQITU</td>\n",
       "      <td>Female</td>\n",
       "      <td>0</td>\n",
       "      <td>No</td>\n",
       "      <td>No</td>\n",
       "      <td>2</td>\n",
       "      <td>Yes</td>\n",
       "      <td>No</td>\n",
       "      <td>Fiber optic</td>\n",
       "      <td>No</td>\n",
       "      <td>...</td>\n",
       "      <td>No</td>\n",
       "      <td>No</td>\n",
       "      <td>No</td>\n",
       "      <td>No</td>\n",
       "      <td>Month-to-month</td>\n",
       "      <td>Yes</td>\n",
       "      <td>Electronic check</td>\n",
       "      <td>70.70</td>\n",
       "      <td>151.65</td>\n",
       "      <td>Yes</td>\n",
       "    </tr>\n",
       "  </tbody>\n",
       "</table>\n",
       "<p>5 rows × 21 columns</p>\n",
       "</div>"
      ],
      "text/plain": [
       "   customerID  gender  SeniorCitizen Partner Dependents  tenure PhoneService  \\\n",
       "0  7590-VHVEG  Female              0     Yes         No       1           No   \n",
       "1  5575-GNVDE    Male              0      No         No      34          Yes   \n",
       "2  3668-QPYBK    Male              0      No         No       2          Yes   \n",
       "3  7795-CFOCW    Male              0      No         No      45           No   \n",
       "4  9237-HQITU  Female              0      No         No       2          Yes   \n",
       "\n",
       "      MultipleLines InternetService OnlineSecurity  ... DeviceProtection  \\\n",
       "0  No phone service             DSL             No  ...               No   \n",
       "1                No             DSL            Yes  ...              Yes   \n",
       "2                No             DSL            Yes  ...               No   \n",
       "3  No phone service             DSL            Yes  ...              Yes   \n",
       "4                No     Fiber optic             No  ...               No   \n",
       "\n",
       "  TechSupport StreamingTV StreamingMovies        Contract PaperlessBilling  \\\n",
       "0          No          No              No  Month-to-month              Yes   \n",
       "1          No          No              No        One year               No   \n",
       "2          No          No              No  Month-to-month              Yes   \n",
       "3         Yes          No              No        One year               No   \n",
       "4          No          No              No  Month-to-month              Yes   \n",
       "\n",
       "               PaymentMethod MonthlyCharges  TotalCharges  Churn  \n",
       "0           Electronic check          29.85         29.85     No  \n",
       "1               Mailed check          56.95       1889.50     No  \n",
       "2               Mailed check          53.85        108.15    Yes  \n",
       "3  Bank transfer (automatic)          42.30       1840.75     No  \n",
       "4           Electronic check          70.70        151.65    Yes  \n",
       "\n",
       "[5 rows x 21 columns]"
      ]
     },
     "execution_count": 3,
     "metadata": {},
     "output_type": "execute_result"
    }
   ],
   "source": [
    "# Load clean csv data \n",
    "df = pd.read_csv('cleaned_telco.csv')\n",
    "df.head()"
   ]
  },
  {
   "cell_type": "code",
   "execution_count": 4,
   "id": "7ffb9872-fd76-4437-8c37-fcb2d02ef1ba",
   "metadata": {},
   "outputs": [
    {
     "name": "stdout",
     "output_type": "stream",
     "text": [
      "<class 'pandas.core.frame.DataFrame'>\n",
      "RangeIndex: 7032 entries, 0 to 7031\n",
      "Data columns (total 21 columns):\n",
      " #   Column            Non-Null Count  Dtype  \n",
      "---  ------            --------------  -----  \n",
      " 0   customerID        7032 non-null   object \n",
      " 1   gender            7032 non-null   object \n",
      " 2   SeniorCitizen     7032 non-null   int64  \n",
      " 3   Partner           7032 non-null   object \n",
      " 4   Dependents        7032 non-null   object \n",
      " 5   tenure            7032 non-null   int64  \n",
      " 6   PhoneService      7032 non-null   object \n",
      " 7   MultipleLines     7032 non-null   object \n",
      " 8   InternetService   7032 non-null   object \n",
      " 9   OnlineSecurity    7032 non-null   object \n",
      " 10  OnlineBackup      7032 non-null   object \n",
      " 11  DeviceProtection  7032 non-null   object \n",
      " 12  TechSupport       7032 non-null   object \n",
      " 13  StreamingTV       7032 non-null   object \n",
      " 14  StreamingMovies   7032 non-null   object \n",
      " 15  Contract          7032 non-null   object \n",
      " 16  PaperlessBilling  7032 non-null   object \n",
      " 17  PaymentMethod     7032 non-null   object \n",
      " 18  MonthlyCharges    7032 non-null   float64\n",
      " 19  TotalCharges      7032 non-null   float64\n",
      " 20  Churn             7032 non-null   object \n",
      "dtypes: float64(2), int64(2), object(17)\n",
      "memory usage: 1.1+ MB\n"
     ]
    }
   ],
   "source": [
    "# Summary \n",
    "df.info()"
   ]
  },
  {
   "cell_type": "code",
   "execution_count": 5,
   "id": "c8ba52c3-2df7-49c1-bc7f-7b8e18e80dd0",
   "metadata": {},
   "outputs": [],
   "source": [
    "# Drop irrelevant columns that don't contribute to the prediction\n",
    "# 'customerID' is a unique identifier and has no impact on churn behavior\n",
    "df = df.drop('customerID', axis=1)"
   ]
  },
  {
   "cell_type": "code",
   "execution_count": 6,
   "id": "d23b93b5-c4d0-4510-8e13-641583211995",
   "metadata": {},
   "outputs": [],
   "source": [
    "# Encode the target variable 'Churn' to numeric values (0 = No, 1 = Yes)\n",
    "# This is essential for machine learning models to understand the target\n",
    "# Using map() function forr efficient and readable conversion\n",
    "df['Churn'] = df['Churn'].map({'Yes':1, 'No':0})"
   ]
  },
  {
   "cell_type": "code",
   "execution_count": 7,
   "id": "87b48e04-2da9-4d70-a2d7-01c5f7d38ac0",
   "metadata": {},
   "outputs": [],
   "source": [
    "# Binary encode gender: Female = 0, Male = 1\n",
    "df['gender'] = df['gender'].map({'Male':1, 'Female':0})"
   ]
  },
  {
   "cell_type": "code",
   "execution_count": 8,
   "id": "b7ee40b7-9607-48b1-842e-82a2335bd0b2",
   "metadata": {},
   "outputs": [],
   "source": [
    "# Encode binary columns: Yes = 1, No = 0\n",
    "binary_cols = ['Partner', 'Dependents', 'PhoneService', 'PaperlessBilling']\n",
    "df[binary_cols] = df[binary_cols].apply(lambda x: x.map({'Yes':1, 'No':0}))"
   ]
  },
  {
   "cell_type": "markdown",
   "id": "0930986e-9067-4909-8971-2916716952a4",
   "metadata": {},
   "source": [
    "To prepare binary categorical columns for modeling, we encoded the values as numeric:\n",
    "\n",
    "- `Yes` was mapped to `1`  \n",
    "- `No` was mapped to `0`  \n",
    "\n",
    "This allows machine learning algorithms to understand and process the data correctly.  \n",
    "We used `apply()` with a `lambda` function to apply the mapping to multiple binary columns at once.\n"
   ]
  },
  {
   "cell_type": "code",
   "execution_count": 10,
   "id": "943f4fcc-e2c2-44fb-8b6d-337821e57d88",
   "metadata": {},
   "outputs": [
    {
     "name": "stdout",
     "output_type": "stream",
     "text": [
      "Shape after encoding (7032, 31)\n"
     ]
    }
   ],
   "source": [
    "# One-hot encode multiclass categorical columns (drop first to avoid dummy variable trap)\n",
    "multi_cat_cols = ['MultipleLines', 'InternetService', 'OnlineSecurity', 'OnlineBackup',\n",
    "                  'DeviceProtection', 'TechSupport', 'StreamingTV', 'StreamingMovies',\n",
    "                  'Contract', 'PaymentMethod']\n",
    "\n",
    "df = pd.get_dummies(df, columns=multi_cat_cols, drop_first=True)\n",
    "\n",
    "# Shape after encoding\n",
    "print(\"Shape after encoding\", df.shape)"
   ]
  },
  {
   "cell_type": "markdown",
   "id": "87e3cedd-1ba4-4268-bc7c-db22749ecfe6",
   "metadata": {},
   "source": [
    "To prepare the multi-class categorical columns for machine learning, we applied one-hot encoding.  \n",
    "We used `drop_first=True` to avoid the dummy variable trap, which helps prevent multicollinearity in linear models.  \n",
    "This step converts categorical text data into a format that can be interpreted by the model.\n"
   ]
  },
  {
   "cell_type": "code",
   "execution_count": 12,
   "id": "b36c5cf0-63b6-49fa-8764-61352898493c",
   "metadata": {},
   "outputs": [
    {
     "name": "stdout",
     "output_type": "stream",
     "text": [
      "Churn\n",
      "0    0.734215\n",
      "1    0.265785\n",
      "Name: proportion, dtype: float64\n"
     ]
    }
   ],
   "source": [
    "# Check class imbalance\n",
    "# Sometimes the dataset shrinks after cleaning\n",
    "print(df['Churn'].value_counts(normalize=True))"
   ]
  },
  {
   "cell_type": "code",
   "execution_count": 13,
   "id": "e260a259-3253-4719-9d34-e1141f764d56",
   "metadata": {},
   "outputs": [],
   "source": [
    "# Scale numerical features using standard scaler\n",
    "numeric_cols = ['tenure', 'MonthlyCharges', 'TotalCharges']\n",
    "scaler = StandardScaler()\n",
    "df[numeric_cols] = scaler.fit_transform(df[numeric_cols])"
   ]
  },
  {
   "cell_type": "markdown",
   "id": "46d691cd-b950-402a-a7fa-3ec7cb4d1c4b",
   "metadata": {},
   "source": [
    "We scaled the numerical features using **StandardScaler**, which standardizes the values by removing the mean and scaling to unit variance.\n",
    "\n",
    "This ensures that all numeric features (like `tenure`, `MonthlyCharges`, `TotalCharges`) are on a similar scale, which helps many machine learning models (like Logistic Regression or SVM) perform better.\n",
    "\n",
    "Formula used:\n",
    "\\[\n",
    "z = \\frac{{x - \\mu}}{{\\sigma}}\n",
    "\\]\n",
    "\n",
    "Where:\n",
    "- \\( x \\) is the original value  \n",
    "- \\( \\mu \\) is the mean  \n",
    "- \\( \\sigma \\) is the standard deviation  \n"
   ]
  },
  {
   "cell_type": "code",
   "execution_count": 15,
   "id": "465cfa56-b6b5-4a91-a726-418df55dca5c",
   "metadata": {},
   "outputs": [
    {
     "name": "stdout",
     "output_type": "stream",
     "text": [
      "<class 'pandas.core.frame.DataFrame'>\n",
      "RangeIndex: 7032 entries, 0 to 7031\n",
      "Data columns (total 31 columns):\n",
      " #   Column                                 Non-Null Count  Dtype  \n",
      "---  ------                                 --------------  -----  \n",
      " 0   gender                                 7032 non-null   int64  \n",
      " 1   SeniorCitizen                          7032 non-null   int64  \n",
      " 2   Partner                                7032 non-null   int64  \n",
      " 3   Dependents                             7032 non-null   int64  \n",
      " 4   tenure                                 7032 non-null   float64\n",
      " 5   PhoneService                           7032 non-null   int64  \n",
      " 6   PaperlessBilling                       7032 non-null   int64  \n",
      " 7   MonthlyCharges                         7032 non-null   float64\n",
      " 8   TotalCharges                           7032 non-null   float64\n",
      " 9   Churn                                  7032 non-null   int64  \n",
      " 10  MultipleLines_No phone service         7032 non-null   bool   \n",
      " 11  MultipleLines_Yes                      7032 non-null   bool   \n",
      " 12  InternetService_Fiber optic            7032 non-null   bool   \n",
      " 13  InternetService_No                     7032 non-null   bool   \n",
      " 14  OnlineSecurity_No internet service     7032 non-null   bool   \n",
      " 15  OnlineSecurity_Yes                     7032 non-null   bool   \n",
      " 16  OnlineBackup_No internet service       7032 non-null   bool   \n",
      " 17  OnlineBackup_Yes                       7032 non-null   bool   \n",
      " 18  DeviceProtection_No internet service   7032 non-null   bool   \n",
      " 19  DeviceProtection_Yes                   7032 non-null   bool   \n",
      " 20  TechSupport_No internet service        7032 non-null   bool   \n",
      " 21  TechSupport_Yes                        7032 non-null   bool   \n",
      " 22  StreamingTV_No internet service        7032 non-null   bool   \n",
      " 23  StreamingTV_Yes                        7032 non-null   bool   \n",
      " 24  StreamingMovies_No internet service    7032 non-null   bool   \n",
      " 25  StreamingMovies_Yes                    7032 non-null   bool   \n",
      " 26  Contract_One year                      7032 non-null   bool   \n",
      " 27  Contract_Two year                      7032 non-null   bool   \n",
      " 28  PaymentMethod_Credit card (automatic)  7032 non-null   bool   \n",
      " 29  PaymentMethod_Electronic check         7032 non-null   bool   \n",
      " 30  PaymentMethod_Mailed check             7032 non-null   bool   \n",
      "dtypes: bool(21), float64(3), int64(7)\n",
      "memory usage: 693.7 KB\n"
     ]
    }
   ],
   "source": [
    "# Summary \n",
    "df.info()"
   ]
  },
  {
   "cell_type": "markdown",
   "id": "4d01e201-705a-4c8f-9892-481a58b4c1f2",
   "metadata": {},
   "source": [
    "- As we can see all columns are processed and are in correct form."
   ]
  },
  {
   "cell_type": "code",
   "execution_count": 17,
   "id": "ba9ceef3-f30a-4eb9-b130-e02eac64a5cd",
   "metadata": {},
   "outputs": [],
   "source": [
    "# Export this data into csv format for further processing\n",
    "df.to_csv(\"preprocessed_telco_churn.csv\", index=False)"
   ]
  },
  {
   "cell_type": "markdown",
   "id": "0661a616-31a6-4d93-b441-a4e983a376c0",
   "metadata": {},
   "source": [
    "### Final Summary\n",
    "In this notebook, we performed all essential steps to transform raw data into a machine-readable format:\n",
    "\n",
    "1. **Dropped Irrelevant Columns**  \n",
    "   - Removed `customerID` as it does not carry predictive value.\n",
    "\n",
    "2. **Encoded Target Variable**  \n",
    "   - Converted `Churn` from \"Yes\"/\"No\" to `1`/`0`.\n",
    "\n",
    "3. **Binary Encoding**  \n",
    "   - Encoded binary categorical features (`Yes`/`No`) into `1`/`0` for columns like `Partner`, `Dependents`, `PhoneService`, and `PaperlessBilling`.\n",
    "\n",
    "4. **Gender Encoding**  \n",
    "   - Encoded `gender` as `1` for Male and `0` for Female.\n",
    "\n",
    "5. **One-Hot Encoding for Multiclass Features**  \n",
    "   - Applied one-hot encoding to features like `InternetService`, `Contract`, `PaymentMethod`, etc., while avoiding the dummy variable trap using `drop_first=True`.\n",
    "\n",
    "6. **Feature Scaling**  \n",
    "   - Applied `StandardScaler` to standardize numerical features: `tenure`, `MonthlyCharges`, and `TotalCharges`.\n",
    "\n",
    "7. **Exported the Preprocessed Data**  \n",
    "   - Saved the final cleaned dataset to a CSV file: `preprocessed_telco_churn.csv` for reuse in modeling and future steps.\n",
    "\n",
    "---\n",
    "\n",
    "With this, our dataset is clean, consistent, and ready for model training in the next step.\n"
   ]
  }
 ],
 "metadata": {
  "kernelspec": {
   "display_name": "Python [conda env:base] *",
   "language": "python",
   "name": "conda-base-py"
  },
  "language_info": {
   "codemirror_mode": {
    "name": "ipython",
    "version": 3
   },
   "file_extension": ".py",
   "mimetype": "text/x-python",
   "name": "python",
   "nbconvert_exporter": "python",
   "pygments_lexer": "ipython3",
   "version": "3.12.7"
  }
 },
 "nbformat": 4,
 "nbformat_minor": 5
}
